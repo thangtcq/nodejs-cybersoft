{
 "cells": [
  {
   "cell_type": "code",
   "execution_count": null,
   "metadata": {
    "vscode": {
     "languageId": "plaintext"
    }
   },
   "outputs": [],
   "source": [
    "# Hãy điền vào [?] là các status code hợp lý của api?\n",
    "\n",
    "# const { Sequelize } = require('sequelize');\n",
    "# const sequelize = new Sequelize('database', 'username', 'password', {\n",
    "#  host: 'localhost',\n",
    "#  dialect: mysql\n",
    "# });\n",
    "\n",
    "# Câu trả lời:\n",
    "# A. dialected\n",
    "# B. dielact\n",
    "# C. dialects\n",
    "# D. dialect"
   ]
  },
  {
   "cell_type": "code",
   "execution_count": null,
   "metadata": {
    "vscode": {
     "languageId": "plaintext"
    }
   },
   "outputs": [],
   "source": [
    "# Để kết nối model Sequelize với đúng tên table ta dùng thuộc tính gì?\n",
    "# A. tableName\n",
    "# B. modelName\n",
    "# C. tableMap\n",
    "# D. modelTable\n",
    "\n",
    "# Câu trả lời của bạn:\n",
    "# tableName"
   ]
  },
  {
   "cell_type": "code",
   "execution_count": null,
   "metadata": {
    "vscode": {
     "languageId": "plaintext"
    }
   },
   "outputs": [],
   "source": [
    "# JWT gồm những thành phần nào?\n",
    "# A. Header, Payload\n",
    "# B. Header, Payload, Signature\n",
    "# C. Header, Payload, Signature, Secret Key\n",
    "# D. Header, Payload, Secret Key\n",
    "\n",
    "# Câu trả lời của bạn:\n",
    "# Header, Payload, Signature"
   ]
  },
  {
   "cell_type": "code",
   "execution_count": null,
   "metadata": {
    "vscode": {
     "languageId": "plaintext"
    }
   },
   "outputs": [],
   "source": [
    "# Dùng lệnh gì để tạo một model trong Sequelize?\n",
    "# A. sequelize-cli\n",
    "# B. sequelize\n",
    "# C. cli-sequelize\n",
    "# D. cli\n",
    "\n",
    "# Câu trả lời của bạn:\n",
    "# sequelize-cli"
   ]
  },
  {
   "cell_type": "code",
   "execution_count": null,
   "metadata": {
    "vscode": {
     "languageId": "plaintext"
    }
   },
   "outputs": [],
   "source": [
    "# ORM là viết tắt của?\n",
    "# A. Object Relational Map\n",
    "# B. Object Relationship Map\n",
    "# C. Object Relational Mapping\n",
    "# D. Object Relationship Mapping\n",
    "\n",
    "# Câu trả lời của bạn:\n",
    "# Object Relational Mapping"
   ]
  },
  {
   "cell_type": "code",
   "execution_count": null,
   "metadata": {
    "vscode": {
     "languageId": "plaintext"
    }
   },
   "outputs": [],
   "source": [
    "# Authentication có thể hiểu là gì?\n",
    "# A. xác thực user\n",
    "# B. cấp quyền user\n",
    "# C. user đăng nhập\n",
    "# D. user đăng xuất\n",
    "\n",
    "# Câu trả lời của bạn:\n",
    "# xác thực user"
   ]
  },
  {
   "cell_type": "code",
   "execution_count": null,
   "metadata": {
    "vscode": {
     "languageId": "plaintext"
    }
   },
   "outputs": [],
   "source": [
    "# Để định nghĩa kiểu dữ liệu cho model Sequelize thì ta dùng đối tượng nào?\n",
    "# A. DataType\n",
    "# B. DataTypes\n",
    "# C. TypeColumn\n",
    "# D. ColumnType\n",
    "\n",
    "# Câu trả lời của bạn:\n",
    "# DataTypes"
   ]
  },
  {
   "cell_type": "code",
   "execution_count": null,
   "metadata": {
    "vscode": {
     "languageId": "plaintext"
    }
   },
   "outputs": [],
   "source": [
    "# JWT viết tắt của?\n",
    "# A. Json Website Token\n",
    "# B. Json Web Temp\n",
    "# C. Json Web Token\n",
    "# D. Json Web Table\n",
    "\n",
    "# Câu trả lời của bạn:\n",
    "# Json Web Token"
   ]
  },
  {
   "cell_type": "code",
   "execution_count": null,
   "metadata": {
    "vscode": {
     "languageId": "plaintext"
    }
   },
   "outputs": [],
   "source": [
    "# Authorization có thể hiểu là gì?\n",
    "# A. xác thực user\n",
    "# B. cấp quyền user\n",
    "# C. user đăng nhập\n",
    "# D. user đăng xuất\n",
    "\n",
    "# Câu trả lời của bạn:\n",
    "# cấp quyền user"
   ]
  },
  {
   "cell_type": "code",
   "execution_count": null,
   "metadata": {
    "vscode": {
     "languageId": "plaintext"
    }
   },
   "outputs": [],
   "source": [
    "# Token dùng để làm gì?\n",
    "# A. xác thực user\n",
    "# B. cấp quyền user\n",
    "# C. user đăng nhập\n",
    "# D. user đăng xuất\n",
    "\n",
    "# Câu trả lời của bạn:\n",
    "# xác thực user"
   ]
  }
 ],
 "metadata": {
  "language_info": {
   "name": "python"
  }
 },
 "nbformat": 4,
 "nbformat_minor": 2
}
