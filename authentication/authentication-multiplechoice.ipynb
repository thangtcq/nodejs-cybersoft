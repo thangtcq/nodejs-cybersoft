{
 "cells": [
  {
   "cell_type": "code",
   "execution_count": null,
   "metadata": {
    "vscode": {
     "languageId": "plaintext"
    }
   },
   "outputs": [],
   "source": [
    "# Các lợi ích khi sử dụng Restfull API?\n",
    "# A. Thống nhất nguyên tắc thiết kế API\n",
    "# B. Giúp web chạy nhanh hơn\n",
    "# C. Logic endpoint phân tầng rõ ràng\n",
    "# D. Có khả năng mở rộng cực tốt\n",
    "# E. Dữ liệu được trả về với định dạng duy nhất là json\n",
    "\n",
    "# Câu trả lời của bạn:\n",
    "# Thống nhất nguyên tắc thiết kế API\n",
    "# Logic endpoint phân tầng rõ ràng\n",
    "# Có khả năng mở rộng cực tốt"
   ]
  },
  {
   "cell_type": "code",
   "execution_count": null,
   "metadata": {
    "vscode": {
     "languageId": "plaintext"
    }
   },
   "outputs": [],
   "source": [
    "# Các lợi ích khi chúng ta sử dụng 1 cấu trúc thư mục chuẩn trong dự án?\n",
    "# A. Bảo mật source code của dự án\n",
    "# B. Thống nhất nguyên tắc code với các thành viên trong team\n",
    "# C. Giúp project dễ quản lý hơn\n",
    "# D. Quản lý source code theo phiên bản\n",
    "# E. Mở rộng dự án dễ dàng hơn\n",
    "# F. Không có câu đúng\n",
    "# G. Giảm dung lượng lưu trữ\n",
    "\n",
    "# Câu trả lời của bạn:\n",
    "# Thống nhất nguyên tắc code với các thành viên trong team\n",
    "# Giúp project dễ quản lý hơn\n",
    "# Mở rộng dự án dễ dàng hơn"
   ]
  },
  {
   "cell_type": "code",
   "execution_count": null,
   "metadata": {
    "vscode": {
     "languageId": "plaintext"
    }
   },
   "outputs": [],
   "source": [
    "# Cấu trúc thư mục chuẩn của một dự án bao gồm những thư mục nào?\n",
    "# A. Views\n",
    "# B. Controllers\n",
    "# C. Presenter\n",
    "# D. Routers\n",
    "# E. Service\n",
    "# F. Apps\n",
    "# G. ViewModel\n",
    "# H. Models\n",
    "\n",
    "# Câu trả lời của bạn:\n",
    "# Views\n",
    "# Controllers\n",
    "# Routers\n",
    "# Models"
   ]
  },
  {
   "cell_type": "code",
   "execution_count": null,
   "metadata": {
    "vscode": {
     "languageId": "plaintext"
    }
   },
   "outputs": [],
   "source": [
    "# Điều nào sau đây là đúng về web services?\n",
    "# A. (1)Web services là một tập hợp các giao thức và tiêu chuẩn mở được sử dụng để trao đổi dữ liệu giữa các ứng dụng hoặc hệ thống\n",
    "# B. (2)Các ứng dụng phần mềm được viết bằng nhiều ngôn ngữ lập trình khác nhau và chạy trên nhiều nền tảng khác nhau có thể sử dụng web services để trao đổi dữ liệu giữa chúng qua các mạng máy tính như Internet.\n",
    "# C. Cả 2 ý (1) và (2)\n",
    "# D. Không có đáp án đúng\n",
    "\n",
    "# Câu trả lời của bạn:\n",
    "# Cả 2 ý (1) và (2)"
   ]
  },
  {
   "cell_type": "code",
   "execution_count": null,
   "metadata": {
    "vscode": {
     "languageId": "plaintext"
    }
   },
   "outputs": [],
   "source": [
    "# Các giao thức http chính trong RESTful?\n",
    "# A. PATCH\n",
    "# B. REQUEST\n",
    "# C. GET\n",
    "# D. DELETE\n",
    "# E. RESPONSE\n",
    "# F. PUT\n",
    "# G. POST\n",
    "# H. HTTP\n",
    "\n",
    "# Câu trả lời của bạn:\n",
    "# GET\n",
    "# DELETE\n",
    "# PUT\n",
    "# POST"
   ]
  },
  {
   "cell_type": "code",
   "execution_count": null,
   "metadata": {
    "vscode": {
     "languageId": "plaintext"
    }
   },
   "outputs": [],
   "source": [
    "# Để lấy data từ người dùng gửi lên ta làm như thế nào?\n",
    "# A. sử dụng res.body\n",
    "# B. sử dụng req.body\n",
    "# C. sử dụng req.get.body\n",
    "# D. không có đáp án chính xác\n",
    "\n",
    "# Câu trả lời của bạn:\n",
    "# sử dụng req.body"
   ]
  },
  {
   "cell_type": "code",
   "execution_count": null,
   "metadata": {
    "vscode": {
     "languageId": "plaintext"
    }
   },
   "outputs": [],
   "source": [
    "# Khi xử lý thành công request cho những phương thức GET, PUT, PATCH hoặc DELETE thì server sẽ gửi về Status code gì? \n",
    "# A. 200\n",
    "# B. 201\n",
    "# C. 202\n",
    "# D. 210\n",
    "\n",
    "# Câu trả lời của bạn:\n",
    "# 200"
   ]
  },
  {
   "cell_type": "code",
   "execution_count": null,
   "metadata": {
    "vscode": {
     "languageId": "plaintext"
    }
   },
   "outputs": [],
   "source": [
    "# Hãy điền vào [?] để hoàn thành đoạn code sau:\n",
    "\n",
    "# //API tạo product để trả về cho client biết product đã được tạo thành công:\n",
    "\n",
    "# app.post('/products',(req,res)=>{\n",
    "#  const {name,price,description,date} = req.body;\n",
    "#  const newProdcut = {id:Math.ramdom(),name,price,description,date};\n",
    "#  productList = [...productList,newProdcut]\n",
    "#  res.status(201).send(newProduct);\n",
    "# })"
   ]
  },
  {
   "cell_type": "code",
   "execution_count": null,
   "metadata": {
    "vscode": {
     "languageId": "plaintext"
    }
   },
   "outputs": [],
   "source": [
    "# Khi xử lý thất bại hoặc không tìm thấy ta sẽ gửi kèm status code nào để phía client nhận biết?\n",
    "# A. 404\n",
    "# B. 400\n",
    "# C. 401\n",
    "# D. 403\n",
    "\n",
    "# Câu trả lời của bạn:\n",
    "# 404"
   ]
  },
  {
   "cell_type": "code",
   "execution_count": null,
   "metadata": {
    "vscode": {
     "languageId": "plaintext"
    }
   },
   "outputs": [],
   "source": [
    "# Hãy điền vào [?] là các status code hợp lý của api ?\n",
    "\n",
    "# app.get('/products'(req,res)=>{\n",
    "#  if(productList){\n",
    "#  res.status(200).send(productList);\n",
    "#  }\n",
    "#  else{\n",
    "#  res.status(404).send(\"Not found\");\n",
    "#  }\n",
    "# })"
   ]
  }
 ],
 "metadata": {
  "language_info": {
   "name": "python"
  }
 },
 "nbformat": 4,
 "nbformat_minor": 2
}
