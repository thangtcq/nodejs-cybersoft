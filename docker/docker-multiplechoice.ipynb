{
 "cells": [
  {
   "cell_type": "code",
   "execution_count": null,
   "metadata": {
    "vscode": {
     "languageId": "plaintext"
    }
   },
   "outputs": [],
   "source": [
    "# Lệnh nào sau đây dùng để tạo image trong docker?\n",
    "# A. docker build\n",
    "# B. docker ps\n",
    "# C. docker images\n",
    "# D. docker run\n",
    "\n",
    "# Câu trả lời của bạn:\n",
    "# docker build"
   ]
  },
  {
   "cell_type": "code",
   "execution_count": null,
   "metadata": {
    "vscode": {
     "languageId": "plaintext"
    }
   },
   "outputs": [],
   "source": [
    "# Để xóa ta dùng lệnh nào trong docker?\n",
    "# A. docker delete\n",
    "# B. docker rem\n",
    "# C. docker rmi\n",
    "# D. docker d\n",
    "\n",
    "# Câu trả lời của bạn:\n",
    "# docker rmi"
   ]
  },
  {
   "cell_type": "code",
   "execution_count": null,
   "metadata": {
    "vscode": {
     "languageId": "plaintext"
    }
   },
   "outputs": [],
   "source": [
    "# Muốn push image lên docker hub thì bạn cần lưu ý điều gì?\n",
    "# A. Phải login vào docker\n",
    "# B. Phải gắn thêm tag khi push\n",
    "# C. Tên image phải giống với tên image quy định trên docker hub khi tạo\n",
    "# D. Tất cả câu trên\n",
    "\n",
    "# Câu trả lời của bạn:\n",
    "# Tất cả câu trên"
   ]
  },
  {
   "cell_type": "code",
   "execution_count": null,
   "metadata": {
    "vscode": {
     "languageId": "plaintext"
    }
   },
   "outputs": [],
   "source": [
    "# Query tương ứng với phương thức nào bên Restful API?\n",
    "# A. GET\n",
    "# B. POST\n",
    "# C. PUT\n",
    "# D. Tất cả\n",
    "\n",
    "# Câu trả lời của bạn:\n",
    "# GET"
   ]
  },
  {
   "cell_type": "code",
   "execution_count": null,
   "metadata": {
    "vscode": {
     "languageId": "plaintext"
    }
   },
   "outputs": [],
   "source": [
    "# Các thành phần của Graphql?\n",
    "# A. query, mutation, subcription\n",
    "# B. query, mutation\n",
    "# C. query, mutation, subcription, params\n",
    "# D. mutation, subcription\n",
    "\n",
    "# Câu trả lời của bạn:\n",
    "# query, mutation, subcription"
   ]
  },
  {
   "cell_type": "code",
   "execution_count": null,
   "metadata": {
    "vscode": {
     "languageId": "plaintext"
    }
   },
   "outputs": [],
   "source": [
    "# Lệnh nào sau đây dùng để tạo container trong docker?\n",
    "# A. docker image\n",
    "# B. docker ps\n",
    "# C. docker rm\n",
    "# D. docker run\n",
    "\n",
    "# Câu trả lời của bạn:\n",
    "# docker run"
   ]
  },
  {
   "cell_type": "code",
   "execution_count": null,
   "metadata": {
    "vscode": {
     "languageId": "plaintext"
    }
   },
   "outputs": [],
   "source": [
    "# Docker hub là gì?\n",
    "# A. Là nơi chưa các container của ứng dụng\n",
    "# B. Là nới lưu dữ liệu giống như Github\n",
    "# C. Là nơi lưu trữ image của các ứng dụng\n",
    "# D. Dùng để tải các container từ docker về máy\n",
    "\n",
    "# Câu trả lời của bạn:\n",
    "# Là nơi lưu trữ image của các ứng dụng"
   ]
  },
  {
   "cell_type": "code",
   "execution_count": null,
   "metadata": {
    "vscode": {
     "languageId": "plaintext"
    }
   },
   "outputs": [],
   "source": [
    "# Muốn các image nằm chung một môi trường container ta dùng cú pháp gì?\n",
    "# A. docker run\n",
    "# B. docker merge\n",
    "# C. Tạo bằng docker run để chung port là được\n",
    "# D. docker-compose\n",
    "\n",
    "# Câu trả lời của bạn:\n",
    "# docker-compose"
   ]
  },
  {
   "cell_type": "code",
   "execution_count": null,
   "metadata": {
    "vscode": {
     "languageId": "plaintext"
    }
   },
   "outputs": [],
   "source": [
    "# Mutation tương ứng với phương thức nào bên Restful API?\n",
    "# A. DELETE\n",
    "# B. POST\n",
    "# C. PUT\n",
    "# D. Tất cả\n",
    "\n",
    "# Câu trả lời của bạn:\n",
    "# POST"
   ]
  },
  {
   "cell_type": "code",
   "execution_count": null,
   "metadata": {
    "vscode": {
     "languageId": "plaintext"
    }
   },
   "outputs": [],
   "source": [
    "# Lệnh tạo một container như sau?\n",
    "# docker \n",
    "# run\n",
    "#   -d -p 3000:80 --name cons-tainer img-tainer:latest"
   ]
  }
 ],
 "metadata": {
  "language_info": {
   "name": "python"
  }
 },
 "nbformat": 4,
 "nbformat_minor": 2
}
