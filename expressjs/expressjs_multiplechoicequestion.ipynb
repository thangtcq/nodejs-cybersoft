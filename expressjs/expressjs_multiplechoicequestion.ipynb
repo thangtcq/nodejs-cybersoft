{
 "cells": [
  {
   "cell_type": "code",
   "execution_count": null,
   "metadata": {
    "vscode": {
     "languageId": "plaintext"
    }
   },
   "outputs": [],
   "source": [
    "# Expressjs dùng để làm gì?\n",
    "# A.Trả api cho front end\n",
    "# B.Tạo server\n",
    "# C.Cả 2 ý đều đúng\n",
    "# D.Cả 2 ý đều sai\n",
    "\n",
    "# Câu trả lời của bạn:\n",
    "# Cả 2 ý đều đúng"
   ]
  },
  {
   "cell_type": "code",
   "execution_count": null,
   "metadata": {
    "vscode": {
     "languageId": "plaintext"
    }
   },
   "outputs": [],
   "source": [
    "# Trong đoạn code tham số thứ 1 của app.get dùng để làm gì?\n",
    "# var express = require('express')\n",
    "# var app = express()\n",
    "# app.get('/', function (req, res) {\n",
    "#     res.send('Hello World!')\n",
    "# })\n",
    "# app.listen(3000)\n",
    "\n",
    "# A.Để tạo ra một đường dẫn url.\n",
    "# B.Lấy url từ phía client gửi về\n",
    "# C.Không có đáp án chính xác\n",
    "\n",
    "# Câu trả lời của bạn:\n",
    "# Để tạo ra một đường dẫn url."
   ]
  },
  {
   "cell_type": "code",
   "execution_count": null,
   "metadata": {
    "vscode": {
     "languageId": "plaintext"
    }
   },
   "outputs": [],
   "source": [
    "# Trong đoạn code tham số thứ 2 của app.get dùng để làm gì?\n",
    "# var express = require('express')\n",
    "# var app = express()\n",
    "# app.get('/', function (req, res) {\n",
    "#     res.send('Hello World!')\n",
    "# })\n",
    "# app.listen(3000)\n",
    "\n",
    "# A.Là một controller. Hàm này được chạy khi phía client gửi request (yêu cầu) đúng method và url.\n",
    "# B.Là một midderware. Hàm này được chạy khi phía client gửi request (yêu cầu) đúng method và url.\n",
    "# C.Là một controller. Hàm này được chạy khi phía client gửi request (yêu cầu) đúng method hoặc url.\n",
    "# D.Là một midderware. Hàm này được chạy khi phía client gửi request (yêu cầu) đúng method hoặc url.\n",
    "\n",
    "# Câu trả lời của bạn:\n",
    "# Là một controller. Hàm này được chạy khi phía client gửi request (yêu cầu) đúng method và url."
   ]
  },
  {
   "cell_type": "code",
   "execution_count": null,
   "metadata": {
    "vscode": {
     "languageId": "plaintext"
    }
   },
   "outputs": [],
   "source": [
    "# Cách nào để xử lý path trong Express.js?\n",
    "# A.app.route()\n",
    "# B.app.routes()\n",
    "# C.app.router()\n",
    "# D.app.routing()\n",
    "\n",
    "# Câu trả lời của bạn:\n",
    "# app.route()"
   ]
  },
  {
   "cell_type": "code",
   "execution_count": null,
   "metadata": {
    "vscode": {
     "languageId": "plaintext"
    }
   },
   "outputs": [],
   "source": [
    "# Cái nào là middleware trong Express.js?\n",
    "# A.function(req){}\n",
    "# B.method(req){}\n",
    "# C.function(req,res,next){}\n",
    "# D.method(req,res,next){}\n",
    "\n",
    "# Câu trả lời của bạn:\n",
    "# function(req,res,next){}"
   ]
  },
  {
   "cell_type": "code",
   "execution_count": null,
   "metadata": {
    "vscode": {
     "languageId": "plaintext"
    }
   },
   "outputs": [],
   "source": [
    "# Response là gì?\n",
    "# A.Data trả từ server về cho client\n",
    "# B.Data gửi từ client lên server\n",
    "# C.Data lưu xuống localstorage\n",
    "# D.Data lưu xuống Cookies\n",
    "\n",
    "# Câu trả lời của bạn:\n",
    "# Data trả từ server về cho client"
   ]
  },
  {
   "cell_type": "code",
   "execution_count": null,
   "metadata": {
    "vscode": {
     "languageId": "plaintext"
    }
   },
   "outputs": [],
   "source": [
    "# Cho biết app.get ở đoạn code mang ý nghĩa gì?\n",
    "# var express = require('express')\n",
    "# var app = express()\n",
    "# app.get('/', function (req, res) {\n",
    "#     res.send('Hello World!')\n",
    "# })\n",
    "# app.listen(3000)\n",
    "\n",
    "# A.app.get có ý nghĩa là kế thừa lại phương thức get của express\n",
    "# B.app.get có ý nghĩa là chọn method (phương thức) là get\n",
    "# C.app.get có ý nghĩa là chọn thuộc tính là get\n",
    "# D.Không có đáp án chính xác\n",
    "\n",
    "# Câu trả lời của bạn:\n",
    "# app.get có ý nghĩa là chọn method (phương thức) là get"
   ]
  },
  {
   "cell_type": "code",
   "execution_count": null,
   "metadata": {
    "vscode": {
     "languageId": "plaintext"
    }
   },
   "outputs": [],
   "source": [
    "# Đối số nào sau đây có sẵn trong Route handlers của Express.js?\n",
    "# A.req - the request object\n",
    "# B.res - the response object\n",
    "# C.next\n",
    "# D.All of the above\n",
    "\n",
    "# Câu trả lời của bạn:\n",
    "# All of the above"
   ]
  },
  {
   "cell_type": "code",
   "execution_count": null,
   "metadata": {
    "vscode": {
     "languageId": "plaintext"
    }
   },
   "outputs": [],
   "source": [
    "# Middleware là gì?\n",
    "# A.Là phần nằm giữa request và response\n",
    "# B.Là phần nằm cuối response\n",
    "# C.Là phần nằm đầu request\n",
    "# D.Không có câu trả lời đúng\n",
    "\n",
    "# Câu trả lời của bạn:\n",
    "# Là phần nằm giữa request và response"
   ]
  },
  {
   "cell_type": "code",
   "execution_count": null,
   "metadata": {
    "vscode": {
     "languageId": "plaintext"
    }
   },
   "outputs": [],
   "source": [
    "# Điền vào chỗ trống [?] , để khởi tạo expressjs?\n",
    "# const [?] = require(\"express\");\n",
    "# const app = [?];\n",
    "\n",
    "# A.expressjs\n",
    "# B.express\n",
    "# C.express.js\n",
    "# D.express()\n",
    "\n",
    "# Câu trả lời của bạn:\n",
    "# express\n",
    "# express()"
   ]
  }
 ],
 "metadata": {
  "language_info": {
   "name": "python"
  }
 },
 "nbformat": 4,
 "nbformat_minor": 2
}
