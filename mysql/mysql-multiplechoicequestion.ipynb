{
 "cells": [
  {
   "cell_type": "code",
   "execution_count": 1,
   "id": "a5772d90-3cb0-445a-b657-db84397fa723",
   "metadata": {},
   "outputs": [],
   "source": [
    "# Câu lệnh SQL nào sau đây sẽ phát sinh lỗi khi thực thi?\n",
    "# A.CREATE DATABASE students\n",
    "# B.CREATE DATABASE students;\n",
    "# C.create database if not exists students\n",
    "# D.IF NOT EXISTS CREATE DATABASE STUDENTS;\n",
    "\n",
    "# Câu trả lời của bạn:\n",
    "# IF NOT EXISTS CREATE DATABASE STUDENTS;"
   ]
  },
  {
   "cell_type": "code",
   "execution_count": 2,
   "id": "59bd5841-391f-40f2-a95f-25f6566fba08",
   "metadata": {},
   "outputs": [],
   "source": [
    "# Định dạng mặc định cho kiểu dữ liệu \"datetime\" là gì? \n",
    "# A.MM-YYYY-DD HH:MI:SS\n",
    "# B.YYYY-MM-DD HH:MI:SS\n",
    "# C.DD-YYYY-MM MI:HH:SS\n",
    "# D.Không có đáp án đúng.\n",
    "\n",
    "# Câu trả lời của bạn:\n",
    "# YYYY-MM-DD HH:MI:SS"
   ]
  },
  {
   "cell_type": "code",
   "execution_count": 3,
   "id": "d7f2b9a4-2594-4c1b-840f-064e82538d0b",
   "metadata": {},
   "outputs": [],
   "source": [
    "# Từ khóa nào được sử dụng để chỉ định khóa ngoại sau khi bảng được tạo? \n",
    "# A.SPECIFY\n",
    "# B.ALTER TABLE\n",
    "# C.SETUP\n",
    "# D.SET\n",
    "\n",
    "# Câu trả lời của bạn:\n",
    "# ALTER TABLE"
   ]
  },
  {
   "cell_type": "code",
   "execution_count": 4,
   "id": "26806ee8-1e27-4e5c-9625-121001bd73a0",
   "metadata": {},
   "outputs": [],
   "source": [
    "# Câu lệnh SQL nào sau đây có cú pháp đúng?\n",
    "# A.SELECT * FROM Table1 WHERE Column1 = = 10\n",
    "# B.SELECT * FROM Table1 WHERE Column1 => 10\n",
    "# C.SELECT * FROM Table1 WHERE Column1 >= 10\n",
    "# D.SELECT * FROM Table1 WHERE Column1 =< 10\n",
    "\n",
    "# Câu trả lời của bạn:\n",
    "# SELECT * FROM Table1 WHERE Column1 >= 10"
   ]
  },
  {
   "cell_type": "code",
   "execution_count": 5,
   "id": "8c284566-bedb-47d3-8e7e-aaa5653f4bec",
   "metadata": {},
   "outputs": [],
   "source": [
    "# Cái gì đại diện cho ‘attribute’ trong cơ sở dữ liệu quan hệ?\n",
    "# A.Table\n",
    "# B.Row\n",
    "# C.Column\n",
    "# D.Object\n",
    "\n",
    "# Câu trả lời của bạn:\n",
    "# Column"
   ]
  },
  {
   "cell_type": "code",
   "execution_count": 6,
   "id": "faca2686-e975-4c07-b46f-d27224c97c19",
   "metadata": {},
   "outputs": [],
   "source": [
    "# Dữ liệu trong cơ sở dữ liệu MySQL được tổ chức thành gì?\n",
    "# A.Objects\n",
    "# B.Tables\n",
    "# C.Networks\n",
    "# D.File systems\n",
    "\n",
    "# Câu trả lời của bạn:\n",
    "# Tables"
   ]
  },
  {
   "cell_type": "code",
   "execution_count": 7,
   "id": "4af3fa3a-3971-4997-aec2-bebb41dd3d91",
   "metadata": {},
   "outputs": [],
   "source": [
    "# Câu lệnh SQL nào được sử dụng để tạo bảng trong cơ sở dữ liệu?\n",
    "# A.CREATE DB\n",
    "# B.CREATE TABLE\n",
    "# C.CREATE DATABASE TAB\n",
    "# D.CREATE DATABASE TABLE\n",
    "\n",
    "# Câu trả lời của bạn:\n",
    "# CREATE TABLE"
   ]
  },
  {
   "cell_type": "code",
   "execution_count": 8,
   "id": "87896ed5-40c1-4e3d-9aab-e8980518372d",
   "metadata": {},
   "outputs": [],
   "source": [
    "# \"name\" đại diện cho điều gì trong đoạn mã SQL sau?\n",
    "\n",
    "# CREATE TABLE student \n",
    "# ( \n",
    "# name CHAR(30), \n",
    "# roll_num INT, \n",
    "# address CHAR(30), \n",
    "# phone CHAR(12) \n",
    "# ); \n",
    "\n",
    "# A.một table\n",
    "# B.một row\n",
    "# C.một column\n",
    "# D.một object\n",
    "\n",
    "# Câu trả lời của bạn:\n",
    "# một column"
   ]
  },
  {
   "cell_type": "code",
   "execution_count": 9,
   "id": "4ece080c-282d-4a7e-8d8c-c68f9062e0ce",
   "metadata": {},
   "outputs": [],
   "source": [
    "# Trong cơ sở dữ liệu MySQL, cấu trúc đại diện cho quan điểm tổ chức của toàn bộ cơ sở dữ liệu là ? \n",
    "# A.Schema\n",
    "# B.View\n",
    "# C.Instance\n",
    "# D.Table\n",
    "\n",
    "# Câu trả lời của bạn:\n",
    "# Schema"
   ]
  },
  {
   "cell_type": "code",
   "execution_count": 10,
   "id": "60de1235-1147-4144-9ddd-7c31ec29cce3",
   "metadata": {},
   "outputs": [],
   "source": [
    "# ‘abc’ trong câu lệnh SQL sau là gì? \n",
    "# SELECT abc FROM xyz; \n",
    "# A.column name\n",
    "# B.table name\n",
    "# C.database name\n",
    "# D.row name\n",
    "\n",
    "# Câu trả lời của bạn:\n",
    "# column name"
   ]
  }
 ],
 "metadata": {
  "kernelspec": {
   "display_name": "Python 3 (ipykernel)",
   "language": "python",
   "name": "python3"
  },
  "language_info": {
   "codemirror_mode": {
    "name": "ipython",
    "version": 3
   },
   "file_extension": ".py",
   "mimetype": "text/x-python",
   "name": "python",
   "nbconvert_exporter": "python",
   "pygments_lexer": "ipython3",
   "version": "3.12.4"
  }
 },
 "nbformat": 4,
 "nbformat_minor": 5
}
